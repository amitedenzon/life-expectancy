{
 "cells": [
  {
   "cell_type": "code",
   "execution_count": null,
   "metadata": {},
   "outputs": [],
   "source": [
    "import matplotlib.patches as patches\n",
    "\n",
    "numerical_cols = df.select_dtypes(include=['float64', 'int64']).columns\n",
    "\n",
    "with plt.style.context('dark_background'):\n",
    "    plt.rcParams.update({\n",
    "        'figure.facecolor': '#1f1f1f',\n",
    "        'axes.facecolor': '#1f1f1f',\n",
    "        'axes.edgecolor': 'white',\n",
    "    })\n",
    "\n",
    "    colors = sns.color_palette(\"rocket\", len(numerical_cols))\n",
    "\n",
    "    num_plots = len(numerical_cols)\n",
    "    num_cols = 4\n",
    "    num_rows = (num_plots + num_cols - 1) // num_cols\n",
    "\n",
    "    plt.figure(figsize=(16, 20))\n",
    "\n",
    "    for i, (col, color) in enumerate(zip(numerical_cols, colors), 1):\n",
    "        plt.subplot(num_rows, num_cols, i)\n",
    "        sns.boxplot(data=df[col], color=color, whiskerprops=dict(color='orange', linewidth=1.5), capprops=dict(color='orange', linewidth=1.5), flierprops=dict(markerfacecolor='lime', marker='D', markersize=8))\n",
    "        plt.title(f'Boxplot of {col}')\n",
    "\n",
    "    plt.tight_layout()\n",
    "    plt.show()"
   ]
  },
  {
   "cell_type": "code",
   "execution_count": null,
   "metadata": {},
   "outputs": [],
   "source": [
    "numeric_df = df.select_dtypes(include=['float64', 'int64',])\n",
    "corr_matrix = numeric_df.corr()\n",
    "\n",
    "plt.figure(figsize=(10, 8))\n",
    "sns.heatmap(corr_matrix, annot=True, cmap='coolwarm', linewidths=0.5)\n",
    "plt.show()"
   ]
  }
 ],
 "metadata": {
  "language_info": {
   "name": "python"
  }
 },
 "nbformat": 4,
 "nbformat_minor": 2
}
